{
  "nbformat": 4,
  "nbformat_minor": 0,
  "metadata": {
    "colab": {
      "name": "special02_control.ipynb",
      "provenance": [],
      "include_colab_link": true
    },
    "kernelspec": {
      "name": "python3",
      "display_name": "Python 3"
    },
    "language_info": {
      "name": "python"
    }
  },
  "cells": [
    {
      "cell_type": "markdown",
      "metadata": {
        "id": "view-in-github",
        "colab_type": "text"
      },
      "source": [
        "<a href=\"https://colab.research.google.com/github/doosanman/pythonProject1/blob/main/special02_control.ipynb\" target=\"_parent\"><img src=\"https://colab.research.google.com/assets/colab-badge.svg\" alt=\"Open In Colab\"/></a>"
      ]
    },
    {
      "cell_type": "code",
      "metadata": {
        "colab": {
          "base_uri": "https://localhost:8080/"
        },
        "id": "YLvwg8NopZIS",
        "outputId": "53a9e8db-8567-4508-f946-da613757f65a"
      },
      "source": [
        "money = 1000000000\n",
        "if money > 0:\n",
        "    print('공부하자', end='')\n",
        "    print('!!!')\n",
        "else:\n",
        "    print('알바하자')"
      ],
      "execution_count": null,
      "outputs": [
        {
          "output_type": "stream",
          "name": "stdout",
          "text": [
            "공부하자!!!\n"
          ]
        }
      ]
    },
    {
      "cell_type": "code",
      "metadata": {
        "colab": {
          "base_uri": "https://localhost:8080/"
        },
        "id": "EXmSGuCNqesQ",
        "outputId": "51c94842-564d-4453-a5ed-793327c5c5c3"
      },
      "source": [
        "if money < 10000:\n",
        "    print('김치찌게')\n",
        "elif money < 30000:\n",
        "    print('스테이크')\n",
        "elif money < 100000:\n",
        "    print('고기 2인분')\n",
        "else :\n",
        "    print('호텔 코스')"
      ],
      "execution_count": null,
      "outputs": [
        {
          "output_type": "stream",
          "name": "stdout",
          "text": [
            "호텔 코스\n"
          ]
        }
      ]
    },
    {
      "cell_type": "code",
      "metadata": {
        "colab": {
          "base_uri": "https://localhost:8080/"
        },
        "id": "VZ9zfZbCr_AI",
        "outputId": "121deafb-4e38-4275-9ede-01679bd17dbb"
      },
      "source": [
        "flag = True\n",
        "if flag:\n",
        "    flag = False\n",
        "    print('이 if문은 반복문 안에서 한 번만 실행됩니다.')"
      ],
      "execution_count": null,
      "outputs": [
        {
          "output_type": "stream",
          "name": "stdout",
          "text": [
            "이 if문은 반복문 안에서 한 번만 실행됩니다.\n"
          ]
        }
      ]
    },
    {
      "cell_type": "code",
      "metadata": {
        "colab": {
          "base_uri": "https://localhost:8080/"
        },
        "id": "rubLzfp0sewE",
        "outputId": "e3d0b425-3bf8-41a9-9358-bca744ab33da"
      },
      "source": [
        "for character in ['a', 'b', 'c']:\n",
        "    print(character)"
      ],
      "execution_count": null,
      "outputs": [
        {
          "output_type": "stream",
          "name": "stdout",
          "text": [
            "a\n",
            "b\n",
            "c\n"
          ]
        }
      ]
    },
    {
      "cell_type": "code",
      "metadata": {
        "colab": {
          "base_uri": "https://localhost:8080/"
        },
        "id": "D8Jp11rKtCfC",
        "outputId": "ba145735-5430-41bd-8493-58d4de2796d9"
      },
      "source": [
        "for i in range(10):\n",
        "    print(i)"
      ],
      "execution_count": null,
      "outputs": [
        {
          "output_type": "stream",
          "name": "stdout",
          "text": [
            "0\n",
            "1\n",
            "2\n",
            "3\n",
            "4\n",
            "5\n",
            "6\n",
            "7\n",
            "8\n",
            "9\n"
          ]
        }
      ]
    },
    {
      "cell_type": "code",
      "metadata": {
        "colab": {
          "base_uri": "https://localhost:8080/"
        },
        "id": "ehSOFVO5trOr",
        "outputId": "3980ee04-235a-4a6b-b1a4-bb2e20416b47"
      },
      "source": [
        "for y in range(2, 10, 2):\n",
        "    for x in range(1, 10):\n",
        "        print('%2d'%(y * x), end=' ')\n",
        "    print()\n"
      ],
      "execution_count": null,
      "outputs": [
        {
          "output_type": "stream",
          "name": "stdout",
          "text": [
            " 2  4  6  8 10 12 14 16 18 \n",
            " 4  8 12 16 20 24 28 32 36 \n",
            " 6 12 18 24 30 36 42 48 54 \n",
            " 8 16 24 32 40 48 56 64 72 \n"
          ]
        }
      ]
    },
    {
      "cell_type": "code",
      "metadata": {
        "colab": {
          "base_uri": "https://localhost:8080/"
        },
        "id": "RsPXvFYGz3J9",
        "outputId": "9141ac91-f3d5-4a88-ab02-2b7574e9c291"
      },
      "source": [
        "values = []\n",
        "x = 1\n",
        "while x != 0 or y != 0:\n",
        "    x, y = map(int, input().split())\n",
        "    values.append((x, y))\n",
        "print(values)"
      ],
      "execution_count": null,
      "outputs": [
        {
          "output_type": "stream",
          "name": "stdout",
          "text": [
            "1 2\n",
            "3 4\n",
            "5 6\n",
            "0 0\n",
            "[(1, 2), (3, 4), (5, 6), (0, 0)]\n"
          ]
        }
      ]
    },
    {
      "cell_type": "code",
      "metadata": {
        "colab": {
          "base_uri": "https://localhost:8080/"
        },
        "id": "5J3dqOEV1dIT",
        "outputId": "22c57438-2176-486c-ae60-2fdb27070e0d"
      },
      "source": [
        "number = 10\n",
        "div_number = 2\n",
        "while div_number < number:\n",
        "    if (number % div_number) == 0:\n",
        "        break\n",
        "    div_number += 1\n",
        "if div_number == number:\n",
        "    print('솟수')\n",
        "else:\n",
        "    print('합성수')"
      ],
      "execution_count": null,
      "outputs": [
        {
          "output_type": "stream",
          "name": "stdout",
          "text": [
            "합성수\n"
          ]
        }
      ]
    },
    {
      "cell_type": "code",
      "metadata": {
        "colab": {
          "base_uri": "https://localhost:8080/"
        },
        "id": "ZuT0nJO_2zTk",
        "outputId": "c6207217-10f3-48cb-80c7-69cfdff84633"
      },
      "source": [
        "number = 0\n",
        "while number < 10:\n",
        "    number += 1\n",
        "    if number % 2:\n",
        "        print(number)"
      ],
      "execution_count": null,
      "outputs": [
        {
          "output_type": "stream",
          "name": "stdout",
          "text": [
            "1\n",
            "3\n",
            "5\n",
            "7\n",
            "9\n"
          ]
        }
      ]
    },
    {
      "cell_type": "code",
      "metadata": {
        "colab": {
          "base_uri": "https://localhost:8080/"
        },
        "id": "-JJ2S9by3Ywp",
        "outputId": "9dd4704a-c457-441c-f2d9-bc7b3b7e9d96"
      },
      "source": [
        "number = 0\n",
        "while number < 10:\n",
        "    number += 1\n",
        "    if not (number % 2):\n",
        "        continue\n",
        "    print(number)"
      ],
      "execution_count": null,
      "outputs": [
        {
          "output_type": "stream",
          "name": "stdout",
          "text": [
            "1\n",
            "3\n",
            "5\n",
            "7\n",
            "9\n"
          ]
        }
      ]
    }
  ]
}